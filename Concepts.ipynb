{
 "cells": [
  {
   "cell_type": "markdown",
   "id": "2e8ef2b7",
   "metadata": {},
   "source": [
    "# Various Data Engineering concepts"
   ]
  },
  {
   "cell_type": "markdown",
   "id": "5629fd11",
   "metadata": {},
   "source": [
    "## Data Enginner Role\n"
   ]
  },
  {
   "cell_type": "markdown",
   "id": "db28ba25",
   "metadata": {},
   "source": [
    "A data engineer is responsible for `collecting, managing, and converting raw data into information` that can be interpreted by data scientists and business analysts. *Data accessibility* is their ultimate goal, which is to enable organizations to utilize data for performance evaluation and optimization.\n",
    "\n",
    "Data engineers lay down the foundation of a database and its architecture. They assess a wide range of requirements and apply relevant database techniques to create a robust architecture. Afterward, the data engineer begins the implementation process and develops the database from scratch. After periodic intervals, they also carry out testing to identify any bugs or performance issues. A data engineer is tasked with maintaining the database and ensuring that it works smoothly without causing any disruption. When a database stops working, it brings a halt to the associated IT infrastructure. The expertise of a data engineer is especially needed to manage large-scale processing systems where performance and scalability issues need continuous maintenance. \n",
    "\n",
    "Data engineers can also support the data science team by constructing dataset procedures that can help with data mining, modeling, and production. In this way, their participation is crucial in enhancing the quality of data."
   ]
  },
  {
   "cell_type": "code",
   "execution_count": null,
   "id": "33db0288",
   "metadata": {},
   "outputs": [],
   "source": []
  },
  {
   "cell_type": "code",
   "execution_count": null,
   "id": "f92f42f0",
   "metadata": {},
   "outputs": [],
   "source": []
  }
 ],
 "metadata": {
  "kernelspec": {
   "display_name": "Python 3 (ipykernel)",
   "language": "python",
   "name": "python3"
  },
  "language_info": {
   "codemirror_mode": {
    "name": "ipython",
    "version": 3
   },
   "file_extension": ".py",
   "mimetype": "text/x-python",
   "name": "python",
   "nbconvert_exporter": "python",
   "pygments_lexer": "ipython3",
   "version": "3.9.12"
  }
 },
 "nbformat": 4,
 "nbformat_minor": 5
}
